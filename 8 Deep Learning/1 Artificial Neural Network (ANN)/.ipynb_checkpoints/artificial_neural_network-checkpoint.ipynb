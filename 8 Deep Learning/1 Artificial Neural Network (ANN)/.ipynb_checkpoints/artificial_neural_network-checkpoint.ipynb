{
 "cells": [
  {
   "cell_type": "code",
   "execution_count": 38,
   "metadata": {},
   "outputs": [],
   "source": [
    "# importing the libraries\n",
    "\n",
    "import numpy as np\n",
    "import matplotlib.pyplot as plt\n",
    "import pandas as pd\n",
    "import tensorflow as tf"
   ]
  },
  {
   "cell_type": "code",
   "execution_count": 39,
   "metadata": {},
   "outputs": [
    {
     "data": {
      "text/plain": [
       "'1.13.1'"
      ]
     },
     "execution_count": 39,
     "metadata": {},
     "output_type": "execute_result"
    }
   ],
   "source": [
    "tf.__version__"
   ]
  },
  {
   "cell_type": "code",
   "execution_count": 40,
   "metadata": {},
   "outputs": [],
   "source": [
    "# Part 1  Data Preprocessing"
   ]
  },
  {
   "cell_type": "code",
   "execution_count": 41,
   "metadata": {},
   "outputs": [],
   "source": [
    "# import the dataset\n",
    "\n",
    "dataset = pd.read_csv('Churn_Modelling.csv')\n",
    "X = dataset.iloc[:, 3:-1].values\n",
    "y = dataset.iloc[:,-1].values"
   ]
  },
  {
   "cell_type": "code",
   "execution_count": 42,
   "metadata": {},
   "outputs": [
    {
     "name": "stdout",
     "output_type": "stream",
     "text": [
      "[[619 'France' 'Female' ... 1 1 101348.88]\n",
      " [608 'Spain' 'Female' ... 0 1 112542.58]\n",
      " [502 'France' 'Female' ... 1 0 113931.57]\n",
      " ...\n",
      " [709 'France' 'Female' ... 0 1 42085.58]\n",
      " [772 'Germany' 'Male' ... 1 0 92888.52]\n",
      " [792 'France' 'Female' ... 1 0 38190.78]]\n"
     ]
    }
   ],
   "source": [
    "print(X)"
   ]
  },
  {
   "cell_type": "code",
   "execution_count": 43,
   "metadata": {},
   "outputs": [
    {
     "name": "stdout",
     "output_type": "stream",
     "text": [
      "[1 0 1 ... 1 1 0]\n"
     ]
    }
   ],
   "source": [
    "print(y)"
   ]
  },
  {
   "cell_type": "code",
   "execution_count": 44,
   "metadata": {},
   "outputs": [],
   "source": [
    "# Encoding Categorical Data"
   ]
  },
  {
   "cell_type": "code",
   "execution_count": 45,
   "metadata": {},
   "outputs": [],
   "source": [
    "# Label encoding the \"Gender\" column\n",
    "\n",
    "from sklearn.preprocessing import LabelEncoder\n",
    "le = LabelEncoder()\n",
    "X[:, 2] = le.fit_transform(X[:, 2])"
   ]
  },
  {
   "cell_type": "code",
   "execution_count": 46,
   "metadata": {},
   "outputs": [
    {
     "name": "stdout",
     "output_type": "stream",
     "text": [
      "[[619 'France' 0 ... 1 1 101348.88]\n",
      " [608 'Spain' 0 ... 0 1 112542.58]\n",
      " [502 'France' 0 ... 1 0 113931.57]\n",
      " ...\n",
      " [709 'France' 0 ... 0 1 42085.58]\n",
      " [772 'Germany' 1 ... 1 0 92888.52]\n",
      " [792 'France' 0 ... 1 0 38190.78]]\n"
     ]
    }
   ],
   "source": [
    "print(X)"
   ]
  },
  {
   "cell_type": "code",
   "execution_count": 47,
   "metadata": {},
   "outputs": [],
   "source": [
    "# One hot encoding in the \"Geography\" column\n",
    "\n",
    "from sklearn.compose import ColumnTransformer\n",
    "from sklearn.preprocessing import OneHotEncoder\n",
    "ct = ColumnTransformer(transformers=[('encoder', OneHotEncoder(), [1])], remainder = 'passthrough')\n",
    "X = np.array(ct.fit_transform(X))"
   ]
  },
  {
   "cell_type": "code",
   "execution_count": 48,
   "metadata": {},
   "outputs": [
    {
     "name": "stdout",
     "output_type": "stream",
     "text": [
      "[[1.0 0.0 0.0 ... 1 1 101348.88]\n",
      " [0.0 0.0 1.0 ... 0 1 112542.58]\n",
      " [1.0 0.0 0.0 ... 1 0 113931.57]\n",
      " ...\n",
      " [1.0 0.0 0.0 ... 0 1 42085.58]\n",
      " [0.0 1.0 0.0 ... 1 0 92888.52]\n",
      " [1.0 0.0 0.0 ... 1 0 38190.78]]\n"
     ]
    }
   ],
   "source": [
    "print(X)"
   ]
  },
  {
   "cell_type": "code",
   "execution_count": 49,
   "metadata": {},
   "outputs": [],
   "source": [
    "# spiltting the datset into the test set and training set\n",
    "\n",
    "from sklearn.model_selection import train_test_split\n",
    "X_train, X_test, y_train, y_test = train_test_split(X, y, test_size = 0.2, random_state=0)"
   ]
  },
  {
   "cell_type": "code",
   "execution_count": 50,
   "metadata": {},
   "outputs": [
    {
     "name": "stdout",
     "output_type": "stream",
     "text": [
      "[[0.0 0.0 1.0 ... 1 0 163830.64]\n",
      " [0.0 1.0 0.0 ... 1 1 57098.0]\n",
      " [1.0 0.0 0.0 ... 1 0 185630.76]\n",
      " ...\n",
      " [1.0 0.0 0.0 ... 1 0 181429.87]\n",
      " [0.0 0.0 1.0 ... 1 1 148750.16]\n",
      " [0.0 1.0 0.0 ... 1 0 118855.26]]\n"
     ]
    }
   ],
   "source": [
    "print(X_train)"
   ]
  },
  {
   "cell_type": "code",
   "execution_count": 51,
   "metadata": {},
   "outputs": [
    {
     "name": "stdout",
     "output_type": "stream",
     "text": [
      "[[0.0 1.0 0.0 ... 1 1 192852.67]\n",
      " [1.0 0.0 0.0 ... 1 0 128702.1]\n",
      " [0.0 0.0 1.0 ... 1 1 75732.25]\n",
      " ...\n",
      " [0.0 0.0 1.0 ... 1 0 141533.19]\n",
      " [0.0 1.0 0.0 ... 1 1 11276.48]\n",
      " [0.0 1.0 0.0 ... 1 0 192950.6]]\n"
     ]
    }
   ],
   "source": [
    "print(X_test)"
   ]
  },
  {
   "cell_type": "code",
   "execution_count": 52,
   "metadata": {},
   "outputs": [
    {
     "name": "stdout",
     "output_type": "stream",
     "text": [
      "[0 0 0 ... 0 0 1]\n"
     ]
    }
   ],
   "source": [
    "print(y_train)"
   ]
  },
  {
   "cell_type": "code",
   "execution_count": 53,
   "metadata": {},
   "outputs": [
    {
     "name": "stdout",
     "output_type": "stream",
     "text": [
      "[0 1 0 ... 0 0 0]\n"
     ]
    }
   ],
   "source": [
    "print(y_test)"
   ]
  },
  {
   "cell_type": "code",
   "execution_count": 54,
   "metadata": {},
   "outputs": [
    {
     "name": "stdout",
     "output_type": "stream",
     "text": [
      "X size:-  120000 and  y size:-  10000\n",
      "X_train size:-  96000 and  y_train size:-  8000\n",
      "X_test size:-  24000 and  y_test size:-  2000\n"
     ]
    }
   ],
   "source": [
    "print('X size:- ',X.size, 'and ','y size:- ',y.size)\n",
    "print('X_train size:- ',X_train.size, 'and ','y_train size:- ',y_train.size)\n",
    "print('X_test size:- ',X_test.size, 'and ','y_test size:- ',y_test.size)"
   ]
  },
  {
   "cell_type": "code",
   "execution_count": 55,
   "metadata": {},
   "outputs": [
    {
     "name": "stderr",
     "output_type": "stream",
     "text": [
      "C:\\Users\\BKP\\Anaconda3\\lib\\site-packages\\sklearn\\utils\\validation.py:595: DataConversionWarning: Data with input dtype object was converted to float64 by StandardScaler.\n",
      "  warnings.warn(msg, DataConversionWarning)\n",
      "C:\\Users\\BKP\\Anaconda3\\lib\\site-packages\\sklearn\\utils\\validation.py:595: DataConversionWarning: Data with input dtype object was converted to float64 by StandardScaler.\n",
      "  warnings.warn(msg, DataConversionWarning)\n",
      "C:\\Users\\BKP\\Anaconda3\\lib\\site-packages\\sklearn\\utils\\validation.py:595: DataConversionWarning: Data with input dtype object was converted to float64 by StandardScaler.\n",
      "  warnings.warn(msg, DataConversionWarning)\n"
     ]
    }
   ],
   "source": [
    "# feature scaling\n",
    "\n",
    "from sklearn.preprocessing import StandardScaler\n",
    "sc = StandardScaler()\n",
    "X_train = sc.fit_transform(X_train)\n",
    "X_test = sc.transform(X_test)\n"
   ]
  },
  {
   "cell_type": "code",
   "execution_count": 56,
   "metadata": {},
   "outputs": [
    {
     "name": "stdout",
     "output_type": "stream",
     "text": [
      "[[-1.01460667 -0.5698444   1.74309049 ...  0.64259497 -1.03227043\n",
      "   1.10643166]\n",
      " [-1.01460667  1.75486502 -0.57369368 ...  0.64259497  0.9687384\n",
      "  -0.74866447]\n",
      " [ 0.98560362 -0.5698444  -0.57369368 ...  0.64259497 -1.03227043\n",
      "   1.48533467]\n",
      " ...\n",
      " [ 0.98560362 -0.5698444  -0.57369368 ...  0.64259497 -1.03227043\n",
      "   1.41231994]\n",
      " [-1.01460667 -0.5698444   1.74309049 ...  0.64259497  0.9687384\n",
      "   0.84432121]\n",
      " [-1.01460667  1.75486502 -0.57369368 ...  0.64259497 -1.03227043\n",
      "   0.32472465]]\n"
     ]
    }
   ],
   "source": [
    "print(X_train)"
   ]
  },
  {
   "cell_type": "code",
   "execution_count": 57,
   "metadata": {},
   "outputs": [
    {
     "name": "stdout",
     "output_type": "stream",
     "text": [
      "[[-1.01460667  1.75486502 -0.57369368 ...  0.64259497  0.9687384\n",
      "   1.61085707]\n",
      " [ 0.98560362 -0.5698444  -0.57369368 ...  0.64259497 -1.03227043\n",
      "   0.49587037]\n",
      " [-1.01460667 -0.5698444   1.74309049 ...  0.64259497  0.9687384\n",
      "  -0.42478674]\n",
      " ...\n",
      " [-1.01460667 -0.5698444   1.74309049 ...  0.64259497 -1.03227043\n",
      "   0.71888467]\n",
      " [-1.01460667  1.75486502 -0.57369368 ...  0.64259497  0.9687384\n",
      "  -1.54507805]\n",
      " [-1.01460667  1.75486502 -0.57369368 ...  0.64259497 -1.03227043\n",
      "   1.61255917]]\n"
     ]
    }
   ],
   "source": [
    "print(X_test)"
   ]
  },
  {
   "cell_type": "code",
   "execution_count": 58,
   "metadata": {},
   "outputs": [],
   "source": [
    "# Part 2 Building the ANN"
   ]
  },
  {
   "cell_type": "code",
   "execution_count": 59,
   "metadata": {},
   "outputs": [],
   "source": [
    "# initializing the ANN\n",
    "\n",
    "ann = tf.keras.models.Sequential()"
   ]
  },
  {
   "cell_type": "code",
   "execution_count": 60,
   "metadata": {},
   "outputs": [],
   "source": [
    "# adding the input laye and the first hidden layer\n",
    "\n",
    "ann.add(tf.keras.layers.Dense(units=6, activation='relu'))"
   ]
  },
  {
   "cell_type": "code",
   "execution_count": 61,
   "metadata": {},
   "outputs": [],
   "source": [
    "# adding the second hidden layer\n",
    "\n",
    "ann.add(tf.keras.layers.Dense(units=6, activation='relu'))"
   ]
  },
  {
   "cell_type": "code",
   "execution_count": 62,
   "metadata": {},
   "outputs": [],
   "source": [
    "# adding the output layer\n",
    "\n",
    "ann.add(tf.keras.layers.Dense(units=1, activation='sigmoid'))"
   ]
  },
  {
   "cell_type": "code",
   "execution_count": 63,
   "metadata": {},
   "outputs": [],
   "source": [
    "# Part 3  Training the ANN"
   ]
  },
  {
   "cell_type": "code",
   "execution_count": 66,
   "metadata": {},
   "outputs": [
    {
     "name": "stdout",
     "output_type": "stream",
     "text": [
      "WARNING:tensorflow:From C:\\Users\\BKP\\Anaconda3\\lib\\site-packages\\tensorflow\\python\\ops\\resource_variable_ops.py:435: colocate_with (from tensorflow.python.framework.ops) is deprecated and will be removed in a future version.\n",
      "Instructions for updating:\n",
      "Colocations handled automatically by placer.\n"
     ]
    }
   ],
   "source": [
    "# Compiling the ANN\n",
    "\n",
    "ann.compile(optimizer='adam', loss='binary_crossentropy', metrics=['accuracy'])"
   ]
  },
  {
   "cell_type": "code",
   "execution_count": 67,
   "metadata": {},
   "outputs": [
    {
     "name": "stdout",
     "output_type": "stream",
     "text": [
      "WARNING:tensorflow:From C:\\Users\\BKP\\Anaconda3\\lib\\site-packages\\tensorflow\\python\\ops\\math_ops.py:3066: to_int32 (from tensorflow.python.ops.math_ops) is deprecated and will be removed in a future version.\n",
      "Instructions for updating:\n",
      "Use tf.cast instead.\n",
      "Epoch 1/100\n",
      "8000/8000 [==============================] - 1s 187us/sample - loss: 0.5172 - acc: 0.7929\n",
      "Epoch 2/100\n",
      "8000/8000 [==============================] - 0s 58us/sample - loss: 0.4569 - acc: 0.7956\n",
      "Epoch 3/100\n",
      "8000/8000 [==============================] - 0s 56us/sample - loss: 0.4381 - acc: 0.7975\n",
      "Epoch 4/100\n",
      "8000/8000 [==============================] - 1s 63us/sample - loss: 0.4288 - acc: 0.8052\n",
      "Epoch 5/100\n",
      "8000/8000 [==============================] - 0s 58us/sample - loss: 0.4231 - acc: 0.8090\n",
      "Epoch 6/100\n",
      "8000/8000 [==============================] - 0s 56us/sample - loss: 0.4173 - acc: 0.8144\n",
      "Epoch 7/100\n",
      "8000/8000 [==============================] - 1s 66us/sample - loss: 0.4113 - acc: 0.8199\n",
      "Epoch 8/100\n",
      "8000/8000 [==============================] - 0s 53us/sample - loss: 0.4052 - acc: 0.8259\n",
      "Epoch 9/100\n",
      "8000/8000 [==============================] - 0s 57us/sample - loss: 0.3991 - acc: 0.8286\n",
      "Epoch 10/100\n",
      "8000/8000 [==============================] - 1s 70us/sample - loss: 0.3933 - acc: 0.8306\n",
      "Epoch 11/100\n",
      "8000/8000 [==============================] - 1s 63us/sample - loss: 0.3883 - acc: 0.8354\n",
      "Epoch 12/100\n",
      "8000/8000 [==============================] - 0s 55us/sample - loss: 0.3835 - acc: 0.8378\n",
      "Epoch 13/100\n",
      "8000/8000 [==============================] - 0s 62us/sample - loss: 0.3789 - acc: 0.8394\n",
      "Epoch 14/100\n",
      "8000/8000 [==============================] - 0s 53us/sample - loss: 0.3749 - acc: 0.8425\n",
      "Epoch 15/100\n",
      "8000/8000 [==============================] - 0s 56us/sample - loss: 0.3715 - acc: 0.8420\n",
      "Epoch 16/100\n",
      "8000/8000 [==============================] - 0s 59us/sample - loss: 0.3681 - acc: 0.8444\n",
      "Epoch 17/100\n",
      "8000/8000 [==============================] - 0s 53us/sample - loss: 0.3655 - acc: 0.8460\n",
      "Epoch 18/100\n",
      "8000/8000 [==============================] - 0s 60us/sample - loss: 0.3624 - acc: 0.8484\n",
      "Epoch 19/100\n",
      "8000/8000 [==============================] - 1s 68us/sample - loss: 0.3602 - acc: 0.8484\n",
      "Epoch 20/100\n",
      "8000/8000 [==============================] - 1s 84us/sample - loss: 0.3583 - acc: 0.8495\n",
      "Epoch 21/100\n",
      "8000/8000 [==============================] - 1s 65us/sample - loss: 0.3559 - acc: 0.8530\n",
      "Epoch 22/100\n",
      "8000/8000 [==============================] - 1s 71us/sample - loss: 0.3541 - acc: 0.8540\n",
      "Epoch 23/100\n",
      "8000/8000 [==============================] - 1s 64us/sample - loss: 0.3527 - acc: 0.8525\n",
      "Epoch 24/100\n",
      "8000/8000 [==============================] - 1s 68us/sample - loss: 0.3508 - acc: 0.8561\n",
      "Epoch 25/100\n",
      "8000/8000 [==============================] - 0s 60us/sample - loss: 0.3495 - acc: 0.8577\n",
      "Epoch 26/100\n",
      "8000/8000 [==============================] - 1s 65us/sample - loss: 0.3485 - acc: 0.8569\n",
      "Epoch 27/100\n",
      "8000/8000 [==============================] - 1s 72us/sample - loss: 0.3478 - acc: 0.8584\n",
      "Epoch 28/100\n",
      "8000/8000 [==============================] - 1s 70us/sample - loss: 0.3469 - acc: 0.8593\n",
      "Epoch 29/100\n",
      "8000/8000 [==============================] - 0s 53us/sample - loss: 0.3459 - acc: 0.8584\n",
      "Epoch 30/100\n",
      "8000/8000 [==============================] - 0s 61us/sample - loss: 0.3459 - acc: 0.8591\n",
      "Epoch 31/100\n",
      "8000/8000 [==============================] - 0s 55us/sample - loss: 0.3453 - acc: 0.8585\n",
      "Epoch 32/100\n",
      "8000/8000 [==============================] - 0s 56us/sample - loss: 0.3447 - acc: 0.8604\n",
      "Epoch 33/100\n",
      "8000/8000 [==============================] - 0s 59us/sample - loss: 0.3447 - acc: 0.8604\n",
      "Epoch 34/100\n",
      "8000/8000 [==============================] - 0s 57us/sample - loss: 0.3443 - acc: 0.8584\n",
      "Epoch 35/100\n",
      "8000/8000 [==============================] - 1s 70us/sample - loss: 0.3435 - acc: 0.8581\n",
      "Epoch 36/100\n",
      "8000/8000 [==============================] - 0s 54us/sample - loss: 0.3430 - acc: 0.8596\n",
      "Epoch 37/100\n",
      "8000/8000 [==============================] - 1s 66us/sample - loss: 0.3424 - acc: 0.8624\n",
      "Epoch 38/100\n",
      "8000/8000 [==============================] - 0s 55us/sample - loss: 0.3422 - acc: 0.8605\n",
      "Epoch 39/100\n",
      "8000/8000 [==============================] - 0s 59us/sample - loss: 0.3419 - acc: 0.8618\n",
      "Epoch 40/100\n",
      "8000/8000 [==============================] - 0s 58us/sample - loss: 0.3412 - acc: 0.8619\n",
      "Epoch 41/100\n",
      "8000/8000 [==============================] - 0s 53us/sample - loss: 0.3410 - acc: 0.8614\n",
      "Epoch 42/100\n",
      "8000/8000 [==============================] - 0s 59us/sample - loss: 0.3407 - acc: 0.8609\n",
      "Epoch 43/100\n",
      "8000/8000 [==============================] - 0s 53us/sample - loss: 0.3402 - acc: 0.8620\n",
      "Epoch 44/100\n",
      "8000/8000 [==============================] - 0s 62us/sample - loss: 0.3398 - acc: 0.8624\n",
      "Epoch 45/100\n",
      "8000/8000 [==============================] - 0s 54us/sample - loss: 0.3391 - acc: 0.8633\n",
      "Epoch 46/100\n",
      "8000/8000 [==============================] - 0s 59us/sample - loss: 0.3390 - acc: 0.8602\n",
      "Epoch 47/100\n",
      "8000/8000 [==============================] - 0s 53us/sample - loss: 0.3384 - acc: 0.8629\n",
      "Epoch 48/100\n",
      "8000/8000 [==============================] - 0s 61us/sample - loss: 0.3381 - acc: 0.8618\n",
      "Epoch 49/100\n",
      "8000/8000 [==============================] - 0s 61us/sample - loss: 0.3379 - acc: 0.8636\n",
      "Epoch 50/100\n",
      "8000/8000 [==============================] - 0s 53us/sample - loss: 0.3371 - acc: 0.8621\n",
      "Epoch 51/100\n",
      "8000/8000 [==============================] - 1s 65us/sample - loss: 0.3370 - acc: 0.8636\n",
      "Epoch 52/100\n",
      "8000/8000 [==============================] - 1s 67us/sample - loss: 0.3372 - acc: 0.8633\n",
      "Epoch 53/100\n",
      "8000/8000 [==============================] - 1s 74us/sample - loss: 0.3367 - acc: 0.8627\n",
      "Epoch 54/100\n",
      "8000/8000 [==============================] - 1s 69us/sample - loss: 0.3367 - acc: 0.8635\n",
      "Epoch 55/100\n",
      "8000/8000 [==============================] - 1s 78us/sample - loss: 0.3368 - acc: 0.8629\n",
      "Epoch 56/100\n",
      "8000/8000 [==============================] - 0s 55us/sample - loss: 0.3362 - acc: 0.8637\n",
      "Epoch 57/100\n",
      "8000/8000 [==============================] - 0s 59us/sample - loss: 0.3360 - acc: 0.8627\n",
      "Epoch 58/100\n",
      "8000/8000 [==============================] - 0s 52us/sample - loss: 0.3360 - acc: 0.8620\n",
      "Epoch 59/100\n",
      "8000/8000 [==============================] - 0s 53us/sample - loss: 0.3356 - acc: 0.8624\n",
      "Epoch 60/100\n",
      "8000/8000 [==============================] - 0s 62us/sample - loss: 0.3357 - acc: 0.8637\n",
      "Epoch 61/100\n",
      "8000/8000 [==============================] - 0s 52us/sample - loss: 0.3357 - acc: 0.8634\n",
      "Epoch 62/100\n",
      "8000/8000 [==============================] - 0s 58us/sample - loss: 0.3354 - acc: 0.8627\n",
      "Epoch 63/100\n",
      "8000/8000 [==============================] - 0s 57us/sample - loss: 0.3353 - acc: 0.8637\n",
      "Epoch 64/100\n",
      "8000/8000 [==============================] - 0s 57us/sample - loss: 0.3350 - acc: 0.8633\n",
      "Epoch 65/100\n",
      "8000/8000 [==============================] - 0s 52us/sample - loss: 0.3350 - acc: 0.8626\n",
      "Epoch 66/100\n",
      "8000/8000 [==============================] - 0s 52us/sample - loss: 0.3349 - acc: 0.8614\n",
      "Epoch 67/100\n",
      "8000/8000 [==============================] - 0s 60us/sample - loss: 0.3344 - acc: 0.8626\n",
      "Epoch 68/100\n",
      "8000/8000 [==============================] - 1s 67us/sample - loss: 0.3349 - acc: 0.8619\n",
      "Epoch 69/100\n",
      "8000/8000 [==============================] - 1s 80us/sample - loss: 0.3348 - acc: 0.8626\n",
      "Epoch 70/100\n",
      "8000/8000 [==============================] - 0s 53us/sample - loss: 0.3347 - acc: 0.8633\n",
      "Epoch 71/100\n",
      "8000/8000 [==============================] - 0s 59us/sample - loss: 0.3342 - acc: 0.8624\n",
      "Epoch 72/100\n",
      "8000/8000 [==============================] - 0s 53us/sample - loss: 0.3345 - acc: 0.8614\n",
      "Epoch 73/100\n",
      "8000/8000 [==============================] - 0s 59us/sample - loss: 0.3338 - acc: 0.8631\n",
      "Epoch 74/100\n",
      "8000/8000 [==============================] - 0s 54us/sample - loss: 0.3345 - acc: 0.8635\n",
      "Epoch 75/100\n",
      "8000/8000 [==============================] - 0s 55us/sample - loss: 0.3342 - acc: 0.8630\n",
      "Epoch 76/100\n",
      "8000/8000 [==============================] - 0s 61us/sample - loss: 0.3339 - acc: 0.8641\n",
      "Epoch 77/100\n",
      "8000/8000 [==============================] - 0s 54us/sample - loss: 0.3337 - acc: 0.8625\n",
      "Epoch 78/100\n",
      "8000/8000 [==============================] - 0s 60us/sample - loss: 0.3339 - acc: 0.8641\n",
      "Epoch 79/100\n",
      "8000/8000 [==============================] - 0s 54us/sample - loss: 0.3335 - acc: 0.8634\n",
      "Epoch 80/100\n",
      "8000/8000 [==============================] - 0s 53us/sample - loss: 0.3337 - acc: 0.8629\n",
      "Epoch 81/100\n",
      "8000/8000 [==============================] - 0s 62us/sample - loss: 0.3335 - acc: 0.8633\n",
      "Epoch 82/100\n",
      "8000/8000 [==============================] - 0s 54us/sample - loss: 0.3336 - acc: 0.8631\n",
      "Epoch 83/100\n",
      "8000/8000 [==============================] - 0s 61us/sample - loss: 0.3336 - acc: 0.8627\n",
      "Epoch 84/100\n",
      "8000/8000 [==============================] - 0s 56us/sample - loss: 0.3338 - acc: 0.8629\n",
      "Epoch 85/100\n",
      "8000/8000 [==============================] - 1s 71us/sample - loss: 0.3335 - acc: 0.8630\n",
      "Epoch 86/100\n",
      "8000/8000 [==============================] - 1s 66us/sample - loss: 0.3334 - acc: 0.8644\n",
      "Epoch 87/100\n",
      "8000/8000 [==============================] - 1s 73us/sample - loss: 0.3333 - acc: 0.8621\n",
      "Epoch 88/100\n",
      "8000/8000 [==============================] - 1s 64us/sample - loss: 0.3330 - acc: 0.8643\n",
      "Epoch 89/100\n",
      "8000/8000 [==============================] - 1s 67us/sample - loss: 0.3334 - acc: 0.8637\n",
      "Epoch 90/100\n",
      "8000/8000 [==============================] - 0s 60us/sample - loss: 0.3332 - acc: 0.8643\n",
      "Epoch 91/100\n",
      "8000/8000 [==============================] - 0s 60us/sample - loss: 0.3329 - acc: 0.8650\n",
      "Epoch 92/100\n",
      "8000/8000 [==============================] - 0s 56us/sample - loss: 0.3331 - acc: 0.8643\n",
      "Epoch 93/100\n",
      "8000/8000 [==============================] - 0s 54us/sample - loss: 0.3326 - acc: 0.8626\n",
      "Epoch 94/100\n",
      "8000/8000 [==============================] - 0s 60us/sample - loss: 0.3336 - acc: 0.8639\n",
      "Epoch 95/100\n",
      "8000/8000 [==============================] - 0s 53us/sample - loss: 0.3334 - acc: 0.8644\n",
      "Epoch 96/100\n",
      "8000/8000 [==============================] - 0s 62us/sample - loss: 0.3332 - acc: 0.8648\n",
      "Epoch 97/100\n",
      "8000/8000 [==============================] - 0s 53us/sample - loss: 0.3331 - acc: 0.8650\n",
      "Epoch 98/100\n",
      "8000/8000 [==============================] - 0s 60us/sample - loss: 0.3330 - acc: 0.8650\n",
      "Epoch 99/100\n",
      "8000/8000 [==============================] - 0s 55us/sample - loss: 0.3329 - acc: 0.8627\n",
      "Epoch 100/100\n",
      "8000/8000 [==============================] - 0s 54us/sample - loss: 0.3329 - acc: 0.8619\n"
     ]
    },
    {
     "data": {
      "text/plain": [
       "<tensorflow.python.keras.callbacks.History at 0x2759c840ac8>"
      ]
     },
     "execution_count": 67,
     "metadata": {},
     "output_type": "execute_result"
    }
   ],
   "source": [
    "# Training the ANN on the training set\n",
    "\n",
    "ann.fit(X_train, y_train, batch_size=32, epochs=100)"
   ]
  },
  {
   "cell_type": "code",
   "execution_count": null,
   "metadata": {},
   "outputs": [],
   "source": []
  }
 ],
 "metadata": {
  "kernelspec": {
   "display_name": "Python 3",
   "language": "python",
   "name": "python3"
  },
  "language_info": {
   "codemirror_mode": {
    "name": "ipython",
    "version": 3
   },
   "file_extension": ".py",
   "mimetype": "text/x-python",
   "name": "python",
   "nbconvert_exporter": "python",
   "pygments_lexer": "ipython3",
   "version": "3.7.1"
  }
 },
 "nbformat": 4,
 "nbformat_minor": 2
}
