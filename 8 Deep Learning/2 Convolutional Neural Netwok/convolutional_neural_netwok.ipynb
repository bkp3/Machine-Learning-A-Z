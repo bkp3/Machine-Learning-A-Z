{
 "cells": [
  {
   "cell_type": "code",
   "execution_count": 2,
   "metadata": {},
   "outputs": [
    {
     "name": "stderr",
     "output_type": "stream",
     "text": [
      "C:\\Users\\BKP\\Anaconda3\\lib\\site-packages\\tensorflow\\python\\framework\\dtypes.py:526: FutureWarning: Passing (type, 1) or '1type' as a synonym of type is deprecated; in a future version of numpy, it will be understood as (type, (1,)) / '(1,)type'.\n",
      "  _np_qint8 = np.dtype([(\"qint8\", np.int8, 1)])\n",
      "C:\\Users\\BKP\\Anaconda3\\lib\\site-packages\\tensorflow\\python\\framework\\dtypes.py:527: FutureWarning: Passing (type, 1) or '1type' as a synonym of type is deprecated; in a future version of numpy, it will be understood as (type, (1,)) / '(1,)type'.\n",
      "  _np_quint8 = np.dtype([(\"quint8\", np.uint8, 1)])\n",
      "C:\\Users\\BKP\\Anaconda3\\lib\\site-packages\\tensorflow\\python\\framework\\dtypes.py:528: FutureWarning: Passing (type, 1) or '1type' as a synonym of type is deprecated; in a future version of numpy, it will be understood as (type, (1,)) / '(1,)type'.\n",
      "  _np_qint16 = np.dtype([(\"qint16\", np.int16, 1)])\n",
      "C:\\Users\\BKP\\Anaconda3\\lib\\site-packages\\tensorflow\\python\\framework\\dtypes.py:529: FutureWarning: Passing (type, 1) or '1type' as a synonym of type is deprecated; in a future version of numpy, it will be understood as (type, (1,)) / '(1,)type'.\n",
      "  _np_quint16 = np.dtype([(\"quint16\", np.uint16, 1)])\n",
      "C:\\Users\\BKP\\Anaconda3\\lib\\site-packages\\tensorflow\\python\\framework\\dtypes.py:530: FutureWarning: Passing (type, 1) or '1type' as a synonym of type is deprecated; in a future version of numpy, it will be understood as (type, (1,)) / '(1,)type'.\n",
      "  _np_qint32 = np.dtype([(\"qint32\", np.int32, 1)])\n",
      "C:\\Users\\BKP\\Anaconda3\\lib\\site-packages\\tensorflow\\python\\framework\\dtypes.py:535: FutureWarning: Passing (type, 1) or '1type' as a synonym of type is deprecated; in a future version of numpy, it will be understood as (type, (1,)) / '(1,)type'.\n",
      "  np_resource = np.dtype([(\"resource\", np.ubyte, 1)])\n",
      "Using TensorFlow backend.\n"
     ]
    }
   ],
   "source": [
    "# imoort the library\n",
    "\n",
    "import tensorflow as tf\n",
    "from keras.preprocessing.image import ImageDataGenerator"
   ]
  },
  {
   "cell_type": "code",
   "execution_count": 3,
   "metadata": {},
   "outputs": [
    {
     "data": {
      "text/plain": [
       "'1.13.1'"
      ]
     },
     "execution_count": 3,
     "metadata": {},
     "output_type": "execute_result"
    }
   ],
   "source": [
    "tf.__version__"
   ]
  },
  {
   "cell_type": "markdown",
   "metadata": {},
   "source": [
    "# Part 1 Data Preprocessing"
   ]
  },
  {
   "cell_type": "code",
   "execution_count": 4,
   "metadata": {},
   "outputs": [
    {
     "name": "stdout",
     "output_type": "stream",
     "text": [
      "Found 8000 images belonging to 2 classes.\n"
     ]
    }
   ],
   "source": [
    "# Preprocessing the training set\n",
    "\n",
    "train_datagen = ImageDataGenerator(rescale=1./255, shear_range=0.2, zoom_range=0.2, horizontal_flip=True)\n",
    "\n",
    "training_set = train_datagen.flow_from_directory('dataset/training_set', target_size=(64, 64), batch_size=32, class_mode='binary')"
   ]
  },
  {
   "cell_type": "code",
   "execution_count": 5,
   "metadata": {},
   "outputs": [
    {
     "name": "stdout",
     "output_type": "stream",
     "text": [
      "Found 2000 images belonging to 2 classes.\n"
     ]
    }
   ],
   "source": [
    "# Preprocessing the test set\n",
    "\n",
    "test_datagen = ImageDataGenerator(rescale=1./255)\n",
    "\n",
    "test_set = test_datagen.flow_from_directory('dataset/test_set', target_size=(64, 64), batch_size=32, class_mode='binary')"
   ]
  },
  {
   "cell_type": "markdown",
   "metadata": {},
   "source": [
    "# Part 2 Building the CNN"
   ]
  },
  {
   "cell_type": "code",
   "execution_count": 6,
   "metadata": {},
   "outputs": [],
   "source": [
    "# initialising the CNN\n",
    "\n",
    "cnn = tf.keras.models.Sequential()"
   ]
  },
  {
   "cell_type": "code",
   "execution_count": 9,
   "metadata": {},
   "outputs": [
    {
     "name": "stdout",
     "output_type": "stream",
     "text": [
      "WARNING:tensorflow:From C:\\Users\\BKP\\Anaconda3\\lib\\site-packages\\tensorflow\\python\\ops\\resource_variable_ops.py:435: colocate_with (from tensorflow.python.framework.ops) is deprecated and will be removed in a future version.\n",
      "Instructions for updating:\n",
      "Colocations handled automatically by placer.\n"
     ]
    }
   ],
   "source": [
    "# step 1 :- Convolution\n",
    "\n",
    "cnn.add(tf.keras.layers.Conv2D(filters=32, kernel_size=3, activation='relu', input_shape=[64, 64, 3]))"
   ]
  },
  {
   "cell_type": "code",
   "execution_count": 10,
   "metadata": {},
   "outputs": [],
   "source": [
    "# step 2 :- Pooling\n",
    "\n",
    "cnn.add(tf.keras.layers.MaxPool2D(pool_size=2, strides=2))"
   ]
  },
  {
   "cell_type": "code",
   "execution_count": 11,
   "metadata": {},
   "outputs": [],
   "source": [
    "# adding a second convolutional layers\n",
    "\n",
    "cnn.add(tf.keras.layers.Conv2D(filters=32, kernel_size=3, activation='relu'))\n",
    "cnn.add(tf.keras.layers.MaxPool2D(pool_size=2, strides=2))"
   ]
  },
  {
   "cell_type": "code",
   "execution_count": 12,
   "metadata": {},
   "outputs": [],
   "source": [
    "# step 3 :- Flattening\n",
    "\n",
    "cnn.add(tf.keras.layers.Flatten())"
   ]
  },
  {
   "cell_type": "code",
   "execution_count": 13,
   "metadata": {},
   "outputs": [],
   "source": [
    "# step 4 :- Full Connection\n",
    "\n",
    "cnn.add(tf.keras.layers.Dense(units=128, activation='relu'))"
   ]
  },
  {
   "cell_type": "code",
   "execution_count": 14,
   "metadata": {},
   "outputs": [],
   "source": [
    "# step 5 :- output layer\n",
    "\n",
    "cnn.add(tf.keras.layers.Dense(units=1, activation='sigmoid'))"
   ]
  },
  {
   "cell_type": "markdown",
   "metadata": {},
   "source": [
    "# Part 3 Training the CNN"
   ]
  },
  {
   "cell_type": "code",
   "execution_count": 15,
   "metadata": {},
   "outputs": [],
   "source": [
    "# compiling the CNN\n",
    "\n",
    "cnn.compile(optimizer='adam', loss='binary_crossentropy', metrics=['accuracy'])"
   ]
  },
  {
   "cell_type": "code",
   "execution_count": 16,
   "metadata": {},
   "outputs": [
    {
     "name": "stdout",
     "output_type": "stream",
     "text": [
      "WARNING:tensorflow:From C:\\Users\\BKP\\Anaconda3\\lib\\site-packages\\tensorflow\\python\\ops\\math_ops.py:3066: to_int32 (from tensorflow.python.ops.math_ops) is deprecated and will be removed in a future version.\n",
      "Instructions for updating:\n",
      "Use tf.cast instead.\n",
      "Epoch 1/25\n",
      "63/63 [==============================] - 74s 1s/step - loss: 0.6197 - acc: 0.6625\n",
      "250/250 [==============================] - 424s 2s/step - loss: 0.6744 - acc: 0.5830 - val_loss: 0.6197 - val_acc: 0.6625\n",
      "Epoch 2/25\n",
      "63/63 [==============================] - 16s 248ms/step - loss: 0.5747 - acc: 0.6955\n",
      "250/250 [==============================] - 134s 535ms/step - loss: 0.5972 - acc: 0.6780 - val_loss: 0.5747 - val_acc: 0.6955\n",
      "Epoch 3/25\n",
      "63/63 [==============================] - 17s 264ms/step - loss: 0.5864 - acc: 0.6940\n",
      "250/250 [==============================] - 136s 544ms/step - loss: 0.5574 - acc: 0.7156 - val_loss: 0.5864 - val_acc: 0.6940\n",
      "Epoch 4/25\n",
      "63/63 [==============================] - 14s 218ms/step - loss: 0.5423 - acc: 0.7355\n",
      "250/250 [==============================] - 131s 524ms/step - loss: 0.5319 - acc: 0.7281 - val_loss: 0.5423 - val_acc: 0.7355\n",
      "Epoch 5/25\n",
      "63/63 [==============================] - 14s 228ms/step - loss: 0.5463 - acc: 0.7420\n",
      "250/250 [==============================] - 123s 491ms/step - loss: 0.5107 - acc: 0.7513 - val_loss: 0.5463 - val_acc: 0.7420\n",
      "Epoch 6/25\n",
      "63/63 [==============================] - 14s 220ms/step - loss: 0.4860 - acc: 0.7695\n",
      "250/250 [==============================] - 117s 470ms/step - loss: 0.4929 - acc: 0.7577 - val_loss: 0.4860 - val_acc: 0.7695\n",
      "Epoch 7/25\n",
      "63/63 [==============================] - 14s 224ms/step - loss: 0.4961 - acc: 0.7535\n",
      "250/250 [==============================] - 125s 499ms/step - loss: 0.4729 - acc: 0.7719 - val_loss: 0.4961 - val_acc: 0.7535\n",
      "Epoch 8/25\n",
      "63/63 [==============================] - 14s 230ms/step - loss: 0.4632 - acc: 0.7815\n",
      "250/250 [==============================] - 120s 481ms/step - loss: 0.4637 - acc: 0.7814 - val_loss: 0.4632 - val_acc: 0.7815\n",
      "Epoch 9/25\n",
      "63/63 [==============================] - 14s 226ms/step - loss: 0.4511 - acc: 0.8000\n",
      "250/250 [==============================] - 118s 474ms/step - loss: 0.4479 - acc: 0.7881 - val_loss: 0.4511 - val_acc: 0.8000\n",
      "Epoch 10/25\n",
      "63/63 [==============================] - 13s 211ms/step - loss: 0.4976 - acc: 0.7655\n",
      "250/250 [==============================] - 128s 512ms/step - loss: 0.4336 - acc: 0.8014 - val_loss: 0.4976 - val_acc: 0.7655\n",
      "Epoch 11/25\n",
      "63/63 [==============================] - 14s 217ms/step - loss: 0.4528 - acc: 0.7875\n",
      "250/250 [==============================] - 109s 438ms/step - loss: 0.4280 - acc: 0.8015 - val_loss: 0.4528 - val_acc: 0.7875\n",
      "Epoch 12/25\n",
      "63/63 [==============================] - 14s 225ms/step - loss: 0.4715 - acc: 0.7880\n",
      "250/250 [==============================] - 107s 427ms/step - loss: 0.4189 - acc: 0.8069 - val_loss: 0.4715 - val_acc: 0.7880\n",
      "Epoch 13/25\n",
      "63/63 [==============================] - 14s 226ms/step - loss: 0.4568 - acc: 0.7900\n",
      "250/250 [==============================] - 127s 506ms/step - loss: 0.4053 - acc: 0.8142 - val_loss: 0.4568 - val_acc: 0.7900\n",
      "Epoch 14/25\n",
      "63/63 [==============================] - 15s 233ms/step - loss: 0.4505 - acc: 0.7960\n",
      "250/250 [==============================] - 122s 488ms/step - loss: 0.3924 - acc: 0.8211 - val_loss: 0.4505 - val_acc: 0.7960\n",
      "Epoch 15/25\n",
      "63/63 [==============================] - 15s 231ms/step - loss: 0.4572 - acc: 0.7910\n",
      "250/250 [==============================] - 123s 493ms/step - loss: 0.3851 - acc: 0.8235 - val_loss: 0.4572 - val_acc: 0.7910\n",
      "Epoch 16/25\n",
      "63/63 [==============================] - 15s 234ms/step - loss: 0.4634 - acc: 0.8010\n",
      "250/250 [==============================] - 121s 484ms/step - loss: 0.3718 - acc: 0.8307 - val_loss: 0.4634 - val_acc: 0.8010\n",
      "Epoch 17/25\n",
      "63/63 [==============================] - 16s 246ms/step - loss: 0.5473 - acc: 0.7700\n",
      "250/250 [==============================] - 122s 489ms/step - loss: 0.3609 - acc: 0.8371 - val_loss: 0.5473 - val_acc: 0.7700\n",
      "Epoch 18/25\n",
      "63/63 [==============================] - 16s 254ms/step - loss: 0.4405 - acc: 0.8015\n",
      "250/250 [==============================] - 131s 525ms/step - loss: 0.3496 - acc: 0.8413 - val_loss: 0.4405 - val_acc: 0.8015\n",
      "Epoch 19/25\n",
      "63/63 [==============================] - 16s 246ms/step - loss: 0.4774 - acc: 0.7925\n",
      "250/250 [==============================] - 127s 506ms/step - loss: 0.3498 - acc: 0.8410 - val_loss: 0.4774 - val_acc: 0.7925\n",
      "Epoch 20/25\n",
      "63/63 [==============================] - 13s 205ms/step - loss: 0.5217 - acc: 0.7810\n",
      "250/250 [==============================] - 105s 420ms/step - loss: 0.3346 - acc: 0.8536 - val_loss: 0.5217 - val_acc: 0.7810\n",
      "Epoch 21/25\n",
      "63/63 [==============================] - 13s 200ms/step - loss: 0.4677 - acc: 0.7995\n",
      "250/250 [==============================] - 101s 404ms/step - loss: 0.3207 - acc: 0.8599 - val_loss: 0.4677 - val_acc: 0.7995\n",
      "Epoch 22/25\n",
      "63/63 [==============================] - 12s 196ms/step - loss: 0.5307 - acc: 0.7855\n",
      "250/250 [==============================] - 102s 407ms/step - loss: 0.3099 - acc: 0.8636 - val_loss: 0.5307 - val_acc: 0.7855\n",
      "Epoch 23/25\n",
      "63/63 [==============================] - 14s 220ms/step - loss: 0.4771 - acc: 0.8105\n",
      "250/250 [==============================] - 106s 425ms/step - loss: 0.3062 - acc: 0.8649 - val_loss: 0.4771 - val_acc: 0.8105\n",
      "Epoch 24/25\n",
      "63/63 [==============================] - 12s 197ms/step - loss: 0.5299 - acc: 0.7800\n",
      "250/250 [==============================] - 102s 406ms/step - loss: 0.2999 - acc: 0.8724 - val_loss: 0.5299 - val_acc: 0.7800\n",
      "Epoch 25/25\n",
      "63/63 [==============================] - 18s 285ms/step - loss: 0.4784 - acc: 0.8125\n",
      "250/250 [==============================] - 118s 472ms/step - loss: 0.2825 - acc: 0.8799 - val_loss: 0.4784 - val_acc: 0.8125\n"
     ]
    },
    {
     "data": {
      "text/plain": [
       "<tensorflow.python.keras.callbacks.History at 0x2870fb40358>"
      ]
     },
     "execution_count": 16,
     "metadata": {},
     "output_type": "execute_result"
    }
   ],
   "source": [
    "# training the CNN on the training set and evaluating it on the test set\n",
    "\n",
    "cnn.fit(x= training_set, validation_data=test_set, epochs=25)"
   ]
  },
  {
   "cell_type": "code",
   "execution_count": 17,
   "metadata": {},
   "outputs": [],
   "source": [
    "# Making a Single Prediction\n",
    "\n",
    "import numpy as np\n",
    "from keras.preprocessing import image\n",
    "test_image = image.load_img('dataset/single_prediction/cat_or_dog_1.jpg', target_size=(64, 64))\n",
    "test_image = image.img_to_array(test_image)\n",
    "test_image = np.expand_dims(test_image, axis=0)\n",
    "result = cnn.predict(test_image)\n",
    "training_set.class_indices\n",
    "if result[0][0] == 1:\n",
    "    prediction = 'Dog'\n",
    "else:\n",
    "    prediction = 'Cat'"
   ]
  },
  {
   "cell_type": "code",
   "execution_count": 18,
   "metadata": {},
   "outputs": [
    {
     "name": "stdout",
     "output_type": "stream",
     "text": [
      "Dog\n"
     ]
    }
   ],
   "source": [
    "print(prediction)"
   ]
  },
  {
   "cell_type": "code",
   "execution_count": null,
   "metadata": {},
   "outputs": [],
   "source": []
  }
 ],
 "metadata": {
  "kernelspec": {
   "display_name": "Python 3",
   "language": "python",
   "name": "python3"
  },
  "language_info": {
   "codemirror_mode": {
    "name": "ipython",
    "version": 3
   },
   "file_extension": ".py",
   "mimetype": "text/x-python",
   "name": "python",
   "nbconvert_exporter": "python",
   "pygments_lexer": "ipython3",
   "version": "3.7.1"
  }
 },
 "nbformat": 4,
 "nbformat_minor": 2
}
